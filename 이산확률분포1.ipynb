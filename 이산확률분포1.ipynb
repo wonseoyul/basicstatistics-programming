{
  "nbformat": 4,
  "nbformat_minor": 0,
  "metadata": {
    "colab": {
      "private_outputs": true,
      "provenance": [],
      "authorship_tag": "ABX9TyPQuGaR9A8hrVuV+dUmpqPl",
      "include_colab_link": true
    },
    "kernelspec": {
      "name": "python3",
      "display_name": "Python 3"
    },
    "language_info": {
      "name": "python"
    }
  },
  "cells": [
    {
      "cell_type": "markdown",
      "metadata": {
        "id": "view-in-github",
        "colab_type": "text"
      },
      "source": [
        "<a href=\"https://colab.research.google.com/github/wonseoyul/basicstatistics-programming/blob/main/%EC%9D%B4%EC%82%B0%ED%99%95%EB%A5%A0%EB%B6%84%ED%8F%AC1.ipynb\" target=\"_parent\"><img src=\"https://colab.research.google.com/assets/colab-badge.svg\" alt=\"Open In Colab\"/></a>"
      ]
    },
    {
      "cell_type": "code",
      "execution_count": null,
      "metadata": {
        "id": "Ju0Ir0KRWWzk"
      },
      "outputs": [],
      "source": [
        "import sys\n",
        "print(sys.version)\n",
        "import math"
      ]
    },
    {
      "cell_type": "code",
      "source": [
        "!python --version"
      ],
      "metadata": {
        "id": "AOdtuUKTc0cm"
      },
      "execution_count": null,
      "outputs": []
    },
    {
      "cell_type": "code",
      "source": [
        "print(\"동전을 4번 던져서 n개가 앞이 나올 확률\\n\")"
      ],
      "metadata": {
        "id": "-shNPh0bc55t"
      },
      "execution_count": null,
      "outputs": []
    },
    {
      "cell_type": "code",
      "source": [
        "print(\"n을 입력하세요\")\n",
        "n =int(input())\n",
        "if n >4:\n",
        "    print(\" 다시 입력하세요. \")\n",
        "    n = int(input())"
      ],
      "metadata": {
        "id": "aOGfEGc9dgpO"
      },
      "execution_count": null,
      "outputs": []
    },
    {
      "cell_type": "code",
      "source": [
        "def combination_count(n, r):\n",
        "    return math.factorial(n) // (math.factorial(n -r) * math.factorial(r))"
      ],
      "metadata": {
        "id": "JxZiT59cgVvp"
      },
      "execution_count": null,
      "outputs": []
    },
    {
      "cell_type": "code",
      "source": [
        "P = combination_count(4, int(n))/(2**3)\n",
        "print(P)"
      ],
      "metadata": {
        "id": "m18u-wtkePb9"
      },
      "execution_count": null,
      "outputs": []
    },
    {
      "cell_type": "code",
      "source": [
        "P0 = combination_count(4, 3) * combination_count(5, 0) /combination_count(9, 3)\n",
        "print(P0)"
      ],
      "metadata": {
        "id": "FTkGvD0hf0qv"
      },
      "execution_count": null,
      "outputs": []
    }
  ]
}