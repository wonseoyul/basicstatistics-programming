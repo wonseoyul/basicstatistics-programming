{
  "nbformat": 4,
  "nbformat_minor": 0,
  "metadata": {
    "colab": {
      "private_outputs": true,
      "provenance": [],
      "collapsed_sections": [],
      "history_visible": true,
      "include_colab_link": true
    },
    "kernelspec": {
      "name": "python3",
      "display_name": "Python 3"
    },
    "language_info": {
      "name": "python"
    }
  },
  "cells": [
    {
      "cell_type": "markdown",
      "metadata": {
        "id": "view-in-github",
        "colab_type": "text"
      },
      "source": [
        "<a href=\"https://colab.research.google.com/github/wonseoyul/basicstatistics-programming/blob/main/20220104_%ED%8F%89%EA%B0%80_%EC%9B%90%EC%84%9C%EC%9C%A8.ipynb\" target=\"_parent\"><img src=\"https://colab.research.google.com/assets/colab-badge.svg\" alt=\"Open In Colab\"/></a>"
      ]
    },
    {
      "cell_type": "markdown",
      "source": [
        "#금융 데이터 활용을 위한 package 설치"
      ],
      "metadata": {
        "id": "fDzjp1H7TP3c"
      }
    },
    {
      "cell_type": "code",
      "source": [
        "!pip install -U finance-datareader\n",
        "!pip install -U pmdarima"
      ],
      "metadata": {
        "id": "ZKKC69HJSrYR"
      },
      "execution_count": null,
      "outputs": []
    },
    {
      "cell_type": "code",
      "execution_count": null,
      "metadata": {
        "id": "uUT_tsfeSgRp"
      },
      "outputs": [],
      "source": [
        "import FinanceDataReader as fdr\n",
        "import pandas as pd\n",
        "import matplotlib.pyplot as plt\n",
        "import numpy as np\n",
        "from pmdarima.arima import ndiffs\n",
        "import pmdarima as pm\n",
        "import plotly.express as px\n",
        "\n",
        "\n",
        "df_krx = fdr.StockListing('KRX') # 한국거래소 상장종목 전체\n",
        "ticker = df_krx[df_krx.Name=='삼성전자']['Symbol'] # 티커\n"
      ]
    },
    {
      "cell_type": "code",
      "source": [
        "ss = fdr.DataReader(''.join(ticker.values),'2020-03-01', '2021-01-30')"
      ],
      "metadata": {
        "id": "ww_7Bw7Slf0M"
      },
      "execution_count": null,
      "outputs": []
    },
    {
      "cell_type": "code",
      "source": [
        "y_train = ss['Close'][:int(0.7*len(ss))]\n",
        "y_test = ss['Close'][int(0.7*len(ss)):]\n",
        "y_train.plot()\n",
        "y_test.plot()"
      ],
      "metadata": {
        "id": "KjDlLgYXSkEk"
      },
      "execution_count": null,
      "outputs": []
    },
    {
      "cell_type": "markdown",
      "source": [
        "#문제1 : 이동 평균 기법을 사용하여 최적의 데이터를 만드세요. (이때 이동 평균의 날짜에 대한 선정 사유를 적으세요."
      ],
      "metadata": {
        "id": "393vMomlli8j"
      }
    },
    {
      "cell_type": "code",
      "source": [
        "len(ss)"
      ],
      "metadata": {
        "id": "wpHZI5qzfzRj"
      },
      "execution_count": null,
      "outputs": []
    },
    {
      "cell_type": "code",
      "source": [
        "ss.columns"
      ],
      "metadata": {
        "id": "N-LioEM4jXWy"
      },
      "execution_count": null,
      "outputs": []
    },
    {
      "cell_type": "code",
      "source": [
        "ss"
      ],
      "metadata": {
        "id": "Dx4djPX7sI1v"
      },
      "execution_count": null,
      "outputs": []
    },
    {
      "cell_type": "code",
      "source": [
        "def get_close(self):\n",
        "    z = ss['Close'][i]\n",
        "    return z"
      ],
      "metadata": {
        "id": "QHkW6ItRkUrC"
      },
      "execution_count": null,
      "outputs": []
    },
    {
      "cell_type": "code",
      "source": [
        "#Your Code(Moving Average) is here\n",
        "def mov_avg_filter(x_n,x_meas):\n",
        "    n = len(x_n)\n",
        "    for i in range(n-1):\n",
        "        x_n[i] = x_n[i+1]\n",
        "    x_n[n-1] = x_meas\n",
        "    x_avg = np.mean(x_n)\n",
        "    return x_avg, x_n"
      ],
      "metadata": {
        "id": "xIV7i4Pjlrmo"
      },
      "execution_count": null,
      "outputs": []
    },
    {
      "cell_type": "code",
      "source": [
        "n = 10\n",
        "n_samples = 228\n",
        "time_end = 10"
      ],
      "metadata": {
        "id": "JJkSWAYTf9KK"
      },
      "execution_count": null,
      "outputs": []
    },
    {
      "cell_type": "code",
      "source": [
        "dt = time_end / n_samples\n",
        "time = np.arange(0, time_end,dt)\n",
        "x_meas_save = np.zeros(n_samples)\n",
        "x_avg_save = np.zeros(n_samples)"
      ],
      "metadata": {
        "id": "C8PVluVTljiL"
      },
      "execution_count": null,
      "outputs": []
    },
    {
      "cell_type": "code",
      "source": [
        "for i in range(n_samples):\n",
        "    \n",
        "     x_meas = get_close(i)\n",
        "\n",
        "     if  i == 0:\n",
        "         x_avg, x_n = x_meas, x_meas  * np.ones(n)\n",
        "         print(x_meas * np.ones(n))\n",
        "\n",
        "     else:\n",
        "         x_avg, x_n = mov_avg_filter(x_n, x_meas)\n",
        "         print(x_n)\n",
        "\n",
        "     x_meas_save[i] = x_meas\n",
        "     x_avg_save[i] = x_avg"
      ],
      "metadata": {
        "id": "WkOT4PVWlHui"
      },
      "execution_count": null,
      "outputs": []
    },
    {
      "cell_type": "code",
      "source": [
        "date = [\"2020-3\",\"2020-5\",\"2020-7\",\"2020-9\",\"2020-11\",\"2021-1\"]"
      ],
      "metadata": {
        "id": "0vmSWMyUiX8B"
      },
      "execution_count": null,
      "outputs": []
    },
    {
      "cell_type": "code",
      "source": [
        "plt.plot(time, x_meas_save, 'r*', label='Measured')\n",
        "\n",
        "plt.plot(time, x_avg_save, 'b-', label='Moving average')\n",
        "\n",
        "plt.legend(loc='upper left')\n",
        "\n",
        "plt.title('Measured Altitudes v.s. Moving Average Filter Values')\n",
        "\n",
        "plt.xlabel('Date')\n",
        "\n",
        "plt.ylabel(' ')\n",
        "\n",
        "plt.ylim([40000, 90000])\n",
        "\n",
        "plt.show()"
      ],
      "metadata": {
        "id": "1h0TCvj1m9N5"
      },
      "execution_count": null,
      "outputs": []
    },
    {
      "cell_type": "markdown",
      "source": [
        "#답 1: 이동평균값 평균 날자 선정 사유"
      ],
      "metadata": {
        "id": "D4XM9sRWl1V5"
      }
    },
    {
      "cell_type": "markdown",
      "source": [
        "#문제2 : 저주파 필터 기법을 사용하여 최적의 데이터 가공을 하세요."
      ],
      "metadata": {
        "id": "0T73-CdrmLot"
      }
    },
    {
      "cell_type": "code",
      "source": [
        "#Your Code(Low Pass Filter) is here\n",
        "\n",
        "data1 = ss[\"Close\"]\n",
        "\n",
        "def low_pass_filter(x_meas, x_esti,m_alpha):\n",
        "    \"\"\"Calculate average sonar using a low pass filter\"\"\"\n",
        "    x_esti =m_alpha * x_esti + (1 - alpha) * x_meas\n",
        "    return x_esti\n",
        "\n",
        "def avg_filter(k, x_avg_k_1, x_measure):\n",
        "    alpha =  (k - 1)/k \n",
        "    x_avg = alpha * x_avg_k_1 + (1 - alpha) * x_measure\n",
        "    return x_avg\n",
        "\n",
        "alpha = 0.7\n",
        "n_samples = 228\n",
        "time_end = 10\n",
        "\n",
        "dt = time_end / n_samples\n",
        "time = np.arange(0, time_end,dt)\n",
        "x_meas_save = np.zeros(n_samples)\n",
        "x_esti_save = np.zeros(n_samples)\n",
        "x_avg_save = np.zeros(n_samples)\n",
        "\n",
        "x_esti = None\n",
        "x_avg = 0\n",
        "for i in range(n_samples):\n",
        "    x_meas = data1[i]\n",
        "    k = i + 1\n",
        "    x_avg_k = avg_filter(k,x_meas, x_avg)\n",
        "    if i == 0:\n",
        "        x_esti = x_meas\n",
        "    else:\n",
        "        x_esti = low_pass_filter(x_meas, x_esti,alpha)\n",
        "\n",
        "    x_meas_save[i] = x_meas\n",
        "    x_esti_save[i] = x_esti\n",
        "    x_avg_save[i] = x_avg\n",
        "\n",
        "plt.plot(time, x_meas_save, 'r*', label='Measured')\n",
        "plt.plot(time, x_esti_save, 'b-', label='Low-pass Filter')\n",
        "plt.legend(loc='upper left')\n",
        "plt.title('Measured Altitudes v.s. LPF Values')\n",
        "plt.xlabel('Date')\n",
        "plt.ylabel(' ')\n",
        "plt.savefig('low_pass_filter.png')"
      ],
      "metadata": {
        "id": "DVgKXIxRmU1z"
      },
      "execution_count": null,
      "outputs": []
    },
    {
      "cell_type": "markdown",
      "source": [
        "#답 2:  변수 선정 사유에 대한 근거를 제시하세요\n"
      ],
      "metadata": {
        "id": "MIwBaf-umcVM"
      }
    },
    {
      "cell_type": "markdown",
      "source": [
        "#문제3 : 선형회기를 사용하여 2022.03.01의 값을 예측하세요."
      ],
      "metadata": {
        "id": "VnMZsqk5mcYC"
      }
    },
    {
      "cell_type": "code",
      "source": [
        "#Your Code(Linear Regression) is here\n",
        "\n",
        "\n",
        "\n",
        "\n",
        "\n",
        "\n",
        "\n"
      ],
      "metadata": {
        "id": "YNtAFCUimx7Z"
      },
      "execution_count": null,
      "outputs": []
    },
    {
      "cell_type": "markdown",
      "source": [
        "#답 3 :"
      ],
      "metadata": {
        "id": "14xy5X2em2iC"
      }
    }
  ]
}