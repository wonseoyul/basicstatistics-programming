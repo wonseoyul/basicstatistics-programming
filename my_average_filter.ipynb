{
  "nbformat": 4,
  "nbformat_minor": 0,
  "metadata": {
    "colab": {
      "private_outputs": true,
      "provenance": [],
      "authorship_tag": "ABX9TyM1NW7BcYlwu+AFNjORyoTd",
      "include_colab_link": true
    },
    "kernelspec": {
      "name": "python3",
      "display_name": "Python 3"
    },
    "language_info": {
      "name": "python"
    }
  },
  "cells": [
    {
      "cell_type": "markdown",
      "metadata": {
        "id": "view-in-github",
        "colab_type": "text"
      },
      "source": [
        "<a href=\"https://colab.research.google.com/github/wonseoyul/basicstatistics-programming/blob/main/my_average_filter.ipynb\" target=\"_parent\"><img src=\"https://colab.research.google.com/assets/colab-badge.svg\" alt=\"Open In Colab\"/></a>"
      ]
    },
    {
      "cell_type": "code",
      "execution_count": null,
      "metadata": {
        "id": "3BIpesYBrv7l"
      },
      "outputs": [],
      "source": [
        "import pandas as pd\n",
        "import numpy as np\n",
        "import matplotlib.pyplot as plt"
      ]
    },
    {
      "cell_type": "code",
      "source": [
        "data = pd.read_csv('/content/CCTV5.csv', sep = ',', encoding ='euc-kr')"
      ],
      "metadata": {
        "id": "L3os3XrMrzGE"
      },
      "execution_count": null,
      "outputs": []
    },
    {
      "cell_type": "code",
      "source": [
        "print(data)"
      ],
      "metadata": {
        "id": "OUSHKvCk0HRb"
      },
      "execution_count": null,
      "outputs": []
    },
    {
      "cell_type": "code",
      "source": [
        "data.info()"
      ],
      "metadata": {
        "id": "Mq26YNrcu3SU"
      },
      "execution_count": null,
      "outputs": []
    },
    {
      "cell_type": "code",
      "source": [
        "data.shape"
      ],
      "metadata": {
        "id": "bbRgzrr2vEBr"
      },
      "execution_count": null,
      "outputs": []
    },
    {
      "cell_type": "code",
      "source": [
        "data1 = data[\"in\"]"
      ],
      "metadata": {
        "id": "o0cNjLNjvgVD"
      },
      "execution_count": null,
      "outputs": []
    },
    {
      "cell_type": "code",
      "source": [
        "plt.title('cctv data')\n",
        "plt.plot(data1)"
      ],
      "metadata": {
        "id": "W_6jUYB75k-k"
      },
      "execution_count": null,
      "outputs": []
    },
    {
      "cell_type": "code",
      "source": [
        "def average(k, x_avg_k_1, x_data):\n",
        "    alpha = (k-1)/k\n",
        "    x_avg_k = alpha * x_avg_k_1 + (1-alpha) * x_data\n",
        "\n",
        "    return x_avg_k"
      ],
      "metadata": {
        "id": "a6uKFYzO57ka"
      },
      "execution_count": null,
      "outputs": []
    },
    {
      "cell_type": "code",
      "source": [
        "time1= 33451\n",
        "x_dat_save = np.zeros(time1)\n",
        "x_avg_save = np.zeros(time1)\n",
        "time=np.zeros(time1)"
      ],
      "metadata": {
        "id": "oHmArR286BIW"
      },
      "execution_count": null,
      "outputs": []
    },
    {
      "cell_type": "code",
      "source": [
        "x_avg_k_1 = 0\n",
        "for i in range(0,33451):\n",
        "    k = i + 1\n",
        "    #x_data = get_volt()\n",
        "    x_data = data1[i]   #x_data 에 data의 array를 보냄\n",
        "    x_avg_k = average(k, x_avg_k_1, x_data)\n",
        "    x_dat_save[i] = x_data\n",
        "    x_avg_save[i] = x_avg_k\n",
        "    time[i]= k\n",
        "    x_avg_k_1 = x_avg_k"
      ],
      "metadata": {
        "id": "KC3IBW4X6EJh"
      },
      "execution_count": null,
      "outputs": []
    },
    {
      "cell_type": "code",
      "source": [
        "plt.plot(time, x_dat_save, 'r*', label='Measured')\n",
        "plt.plot(time, x_avg_save, 'b-', label='Average')\n",
        "plt.legend(loc='upper left')\n",
        "plt.title('Measured Voltages v.s. Average Filter Values')\n",
        "plt.xlabel('adress')\n",
        "plt.ylabel('in')\n",
        "plt.savefig('cctv.png')"
      ],
      "metadata": {
        "id": "D9T1R6wB6F_p"
      },
      "execution_count": null,
      "outputs": []
    }
  ]
}