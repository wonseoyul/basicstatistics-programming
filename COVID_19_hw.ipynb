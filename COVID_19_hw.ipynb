{
  "nbformat": 4,
  "nbformat_minor": 0,
  "metadata": {
    "colab": {
      "private_outputs": true,
      "provenance": [],
      "authorship_tag": "ABX9TyNC2gtw5VZf7TZwfdzJ+zoD",
      "include_colab_link": true
    },
    "kernelspec": {
      "name": "python3",
      "display_name": "Python 3"
    },
    "language_info": {
      "name": "python"
    }
  },
  "cells": [
    {
      "cell_type": "markdown",
      "metadata": {
        "id": "view-in-github",
        "colab_type": "text"
      },
      "source": [
        "<a href=\"https://colab.research.google.com/github/wonseoyul/basicstatistics-programming/blob/main/COVID_19_hw.ipynb\" target=\"_parent\"><img src=\"https://colab.research.google.com/assets/colab-badge.svg\" alt=\"Open In Colab\"/></a>"
      ]
    },
    {
      "cell_type": "code",
      "execution_count": null,
      "metadata": {
        "id": "KWmPA29EX8Wa"
      },
      "outputs": [],
      "source": [
        "import numpy as np\n",
        "import matplotlib.pyplot as plt\n",
        "import pandas as pd\n",
        "from scipy import io"
      ]
    },
    {
      "cell_type": "code",
      "source": [
        "data_csv = pd.read_csv(\"/content/COVID19.csv\")"
      ],
      "metadata": {
        "id": "SnZFVCIAYO3s"
      },
      "execution_count": null,
      "outputs": []
    },
    {
      "cell_type": "code",
      "source": [
        "data_csv.columns "
      ],
      "metadata": {
        "id": "tEwyQ3AUYgLm"
      },
      "execution_count": null,
      "outputs": []
    },
    {
      "cell_type": "code",
      "source": [
        "data_csv.rename(columns = {'시점': 'data', '인원[명]':'nop'} ,inplace = True)"
      ],
      "metadata": {
        "id": "fY6kDJzrZDkD"
      },
      "execution_count": null,
      "outputs": []
    },
    {
      "cell_type": "code",
      "source": [
        "data_csv"
      ],
      "metadata": {
        "id": "dxO5_rBWZxu-"
      },
      "execution_count": null,
      "outputs": []
    },
    {
      "cell_type": "code",
      "source": [
        "print(data_csv['nop'])\n",
        "print(data_csv['nop'][0])\n",
        "data_nop =  data_csv['nop'][0]\n",
        "print(data_nop)"
      ],
      "metadata": {
        "id": "PirhFy9HP1cy"
      },
      "execution_count": null,
      "outputs": []
    },
    {
      "cell_type": "code",
      "source": [
        "def get_nop(i):\n",
        "    z = data_csv['nop'][i]\n",
        "    return z"
      ],
      "metadata": {
        "id": "tW3zqF0MaD5H"
      },
      "execution_count": null,
      "outputs": []
    },
    {
      "cell_type": "code",
      "source": [
        "def mov_avg_filter(x_n, x_meas):\n",
        "    \"\"\"이동평균 이용하여 초음파 거리 계산 (배치식).\"\"\"\n",
        "    n = len(x_n)\n",
        "    for i in range(n-1):\n",
        "        x_n[i] = x_n[i+1]\n",
        "    x_n[n-1] = x_meas\n",
        "    x_avg = np.mean(x_n)\n",
        "    return x_avg, x_n"
      ],
      "metadata": {
        "id": "zhltZX9pZu10"
      },
      "execution_count": null,
      "outputs": []
    },
    {
      "cell_type": "code",
      "source": [
        "n = 10\n",
        "n_samples = 9154\n",
        "time_end = 10"
      ],
      "metadata": {
        "id": "B_d29p1rh8_F"
      },
      "execution_count": null,
      "outputs": []
    },
    {
      "cell_type": "code",
      "source": [
        "dt = time_end / n_samples\n",
        "time = np.arange(0, time_end,dt)\n",
        "x_meas_save = np.zeros(n_samples)\n",
        "x_avg_save = np.zeros(n_samples)"
      ],
      "metadata": {
        "id": "Of0RYa2IiR81"
      },
      "execution_count": null,
      "outputs": []
    },
    {
      "cell_type": "code",
      "source": [
        "for i in range(n_samples):\n",
        "    \n",
        "     x_meas = get_nop(i)\n",
        "\n",
        "     if  i == 0:\n",
        "         x_avg, x_n = x_meas, x_meas  * np.ones(n)\n",
        "         print(x_meas * np.ones(n))\n",
        "\n",
        "     else:\n",
        "         x_avg, x_n = mov_avg_filter(x_n, x_meas)\n",
        "         print(x_n)\n",
        "\n",
        "     x_meas_save[i] = x_meas\n",
        "     x_avg_save[i] = x_avg"
      ],
      "metadata": {
        "id": "b8J3xj9piYRB"
      },
      "execution_count": null,
      "outputs": []
    },
    {
      "cell_type": "code",
      "source": [
        "plt.plot(time, x_meas_save, 'r*', label='Measured')\n",
        "\n",
        "plt.plot(time, x_avg_save, 'b-', label='Moving average')\n",
        "\n",
        "plt.legend(loc='upper left')\n",
        "\n",
        "plt.title('Measured Altitudes v.s. Moving Average Filter Values')\n",
        "\n",
        "plt.xlabel('date')\n",
        "\n",
        "plt.ylabel('The number of people')\n",
        "\n",
        "plt.show()"
      ],
      "metadata": {
        "id": "dO33EAHkalkt"
      },
      "execution_count": null,
      "outputs": []
    }
  ]
}