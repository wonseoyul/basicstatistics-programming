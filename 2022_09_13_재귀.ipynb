{
  "nbformat": 4,
  "nbformat_minor": 0,
  "metadata": {
    "colab": {
      "private_outputs": true,
      "provenance": [],
      "toc_visible": true,
      "authorship_tag": "ABX9TyOxMkUh0IWYZVH7AE2pdnGG",
      "include_colab_link": true
    },
    "kernelspec": {
      "name": "python3",
      "display_name": "Python 3"
    },
    "language_info": {
      "name": "python"
    }
  },
  "cells": [
    {
      "cell_type": "markdown",
      "metadata": {
        "id": "view-in-github",
        "colab_type": "text"
      },
      "source": [
        "<a href=\"https://colab.research.google.com/github/wonseoyul/basicstatistics-programming/blob/main/2022_09_13_%EC%9E%AC%EA%B7%80.ipynb\" target=\"_parent\"><img src=\"https://colab.research.google.com/assets/colab-badge.svg\" alt=\"Open In Colab\"/></a>"
      ]
    },
    {
      "cell_type": "code",
      "execution_count": null,
      "metadata": {
        "id": "D2WVqFy2VEf9"
      },
      "outputs": [],
      "source": [
        "import numpy as np\n",
        "import matplotlib.pyplot as plt"
      ]
    },
    {
      "cell_type": "code",
      "source": [
        "def get_volt():\n",
        "    \"\"\"Measure voltage.\"\"\"\n",
        "    v = np.random.normal(0, 4)  # v: measurement noise.\n",
        "    volt_mean = 14.4            # volt_mean: mean (nominal) voltage [V].\n",
        "    volt_meas = volt_mean + v   # volt_meas: measured voltage [V] (observable).\n",
        "    return volt_meas\n"
      ],
      "metadata": {
        "id": "x0knDdT0VyYu"
      },
      "execution_count": null,
      "outputs": []
    },
    {
      "cell_type": "code",
      "source": [
        "def average(k, x_avg_k_1, x_measure):\n",
        "    alpha =  (k - 1)/k \n",
        "    x_avg_k = alpha * x_avg_k_1 + (1 - alpha) * x_measure\n",
        "    return x_avg_k"
      ],
      "metadata": {
        "id": "z01sXqbgWQrn"
      },
      "execution_count": null,
      "outputs": []
    },
    {
      "cell_type": "code",
      "source": [
        "time1 = 100\n",
        "x_meas_save = np.zeros(time1)\n",
        "x_avg_save = np.zeros(time1)\n",
        "time = np.zeros(time1)"
      ],
      "metadata": {
        "id": "uZEAmrDyZ4hm"
      },
      "execution_count": null,
      "outputs": []
    },
    {
      "cell_type": "code",
      "source": [
        "x_avg_k_1 = 0\n",
        "for i in range(0,time1):\n",
        "    k = i + 1\n",
        "    x_measure = get_volt()\n",
        "    x_avg_k=average(k, x_avg_k_1, x_measure)\n",
        "    x_meas_save[i] = x_measure\n",
        "    x_avg_save[i] = x_avg_k\n",
        "    time[i] = k\n",
        "    x_avg_k_1 = x_avg_k\n",
        "    print(x_meas_save[i])"
      ],
      "metadata": {
        "id": "tRTyyM3TVhP_"
      },
      "execution_count": null,
      "outputs": []
    },
    {
      "cell_type": "code",
      "source": [
        "plt.plot(time, x_meas_save, 'r*', label='Measured')\n",
        "plt.plot(time, x_avg_save, 'b-', label='Average')\n",
        "plt.legend(loc='upper left')\n",
        "plt.title('Measured Voltages v.s. Average Filter Values')\n",
        "plt.xlabel('Time [sec]')\n",
        "plt.ylabel('Volt [V]')\n",
        "plt.savefig('average_filter.png')"
      ],
      "metadata": {
        "id": "N-I2_DMfWcRv"
      },
      "execution_count": null,
      "outputs": []
    }
  ]
}