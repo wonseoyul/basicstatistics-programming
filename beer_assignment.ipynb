{
  "nbformat": 4,
  "nbformat_minor": 0,
  "metadata": {
    "colab": {
      "private_outputs": true,
      "provenance": [],
      "collapsed_sections": [],
      "include_colab_link": true
    },
    "kernelspec": {
      "name": "python3",
      "display_name": "Python 3"
    },
    "language_info": {
      "name": "python"
    }
  },
  "cells": [
    {
      "cell_type": "markdown",
      "metadata": {
        "id": "view-in-github",
        "colab_type": "text"
      },
      "source": [
        "<a href=\"https://colab.research.google.com/github/wonseoyul/basicstatistics-programming/blob/main/beer_assignment.ipynb\" target=\"_parent\"><img src=\"https://colab.research.google.com/assets/colab-badge.svg\" alt=\"Open In Colab\"/></a>"
      ]
    },
    {
      "cell_type": "code",
      "execution_count": null,
      "metadata": {
        "id": "xxDxnLMumbIW"
      },
      "outputs": [],
      "source": [
        "import pandas as pd\n",
        "import numpy as np\n",
        "import matplotlib.pyplot as plt"
      ]
    },
    {
      "cell_type": "code",
      "source": [
        "def mov_avg_filter(x_n, x_meas):\n",
        "    \"\"\"Calculate average sonar using a moving average filter (batch expression).\"\"\"\n",
        "    n = len(x_n)\n",
        "    for i in range(n-1): \n",
        "      x_n[i] = x_n[i+1]\n",
        "      x_n[n-1] = x_meas\n",
        "      x_avg = np.mean(x_n)\n",
        "\n",
        "    return x_avg, x_n\n",
        "\n",
        "    #이동평균필터"
      ],
      "metadata": {
        "id": "eaJWUvHVnb2G"
      },
      "execution_count": null,
      "outputs": []
    },
    {
      "cell_type": "markdown",
      "source": [
        "참고 사이트 \n",
        "\n",
        "https://nittaku.tistory.com/114"
      ],
      "metadata": {
        "id": "AY_6inR5sxOP"
      }
    },
    {
      "cell_type": "code",
      "source": [
        "data = pd.read_csv(\"https://raw.githubusercontent.com/jamesrobertlloyd/gp-structure-search/master/data/raw/TSDL/monthly-beer-production-in-austr.csv\",sep=',' )"
      ],
      "metadata": {
        "id": "w23c02rhm5yc"
      },
      "execution_count": null,
      "outputs": []
    },
    {
      "cell_type": "code",
      "source": [
        "data.info()"
      ],
      "metadata": {
        "id": "10mc9otHoijO"
      },
      "execution_count": null,
      "outputs": []
    },
    {
      "cell_type": "code",
      "source": [
        "data.shape"
      ],
      "metadata": {
        "id": "IzMCYh66s562"
      },
      "execution_count": null,
      "outputs": []
    },
    {
      "cell_type": "code",
      "source": [
        "print(data)"
      ],
      "metadata": {
        "id": "-PpZgehFnXpG"
      },
      "execution_count": null,
      "outputs": []
    },
    {
      "cell_type": "code",
      "source": [
        "data1 = data[\"Monthly beer production in Australia: megalitres. Includes ale and stout. Does not include beverages with alcohol percentage less than 1.15. Jan 1956 ? Aug 1995\"]"
      ],
      "metadata": {
        "id": "uedZFuTotVVF"
      },
      "execution_count": null,
      "outputs": []
    },
    {
      "cell_type": "code",
      "source": [
        "print(data1)"
      ],
      "metadata": {
        "id": "mCJBkXoJtipV"
      },
      "execution_count": null,
      "outputs": []
    },
    {
      "cell_type": "code",
      "source": [
        "plt.title('Aust. beer data')\n",
        "plt.plot(data1)"
      ],
      "metadata": {
        "id": "sPOFtZON46-w"
      },
      "execution_count": null,
      "outputs": []
    },
    {
      "cell_type": "code",
      "source": [
        "def average(k, x_avg_k_1, x_data):\n",
        "    alpha = (k-1)/k\n",
        "    x_avg_k = alpha * x_avg_k_1 + (1-alpha) * x_data\n",
        "\n",
        "    return x_avg_k"
      ],
      "metadata": {
        "id": "EoPCjQht-49v"
      },
      "execution_count": null,
      "outputs": []
    },
    {
      "cell_type": "code",
      "source": [
        "time1= 475\n",
        "x_dat_save = np.zeros(time1)\n",
        "x_avg_save = np.zeros(time1)\n",
        "time=np.zeros(time1)"
      ],
      "metadata": {
        "id": "rptRjWdBhQ2Q"
      },
      "execution_count": null,
      "outputs": []
    },
    {
      "cell_type": "code",
      "source": [
        "x_avg_k_1 = 0\n",
        "for i in range(0,475):\n",
        "    k = i + 1\n",
        "    x_data = data1[i]   \n",
        "    print(x_data)\n",
        "    x_avg_k = average(k, x_avg_k_1, x_data)\n",
        "    x_dat_save[i] = x_data\n",
        "    x_avg_save[i] = x_avg_k\n",
        "    time[i]= k\n",
        "    x_avg_k_1 = x_avg_k\n",
        "    print(x_dat_save[i])"
      ],
      "metadata": {
        "id": "hj0qNCJXtvGQ"
      },
      "execution_count": null,
      "outputs": []
    },
    {
      "cell_type": "code",
      "source": [
        "plt.plot(time, x_dat_save, 'r*', label='Measured')\n",
        "plt.plot(time, x_avg_save, 'b-', label='Average')\n",
        "plt.legend(loc='upper left')\n",
        "plt.title('Measured Voltages v.s. Average Filter Values')\n",
        "plt.xlabel('Time [sec]')\n",
        "plt.ylabel('Volt [V]')\n",
        "plt.savefig('content.png')"
      ],
      "metadata": {
        "id": "yZ7IuXVIhd1l"
      },
      "execution_count": null,
      "outputs": []
    }
  ]
}