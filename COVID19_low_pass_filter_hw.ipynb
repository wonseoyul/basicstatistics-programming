{
  "nbformat": 4,
  "nbformat_minor": 0,
  "metadata": {
    "colab": {
      "private_outputs": true,
      "provenance": [],
      "authorship_tag": "ABX9TyM3fLj+pFPMRh+FDM+EQCSd",
      "include_colab_link": true
    },
    "kernelspec": {
      "name": "python3",
      "display_name": "Python 3"
    },
    "language_info": {
      "name": "python"
    }
  },
  "cells": [
    {
      "cell_type": "markdown",
      "metadata": {
        "id": "view-in-github",
        "colab_type": "text"
      },
      "source": [
        "<a href=\"https://colab.research.google.com/github/wonseoyul/basicstatistics-programming/blob/main/COVID19_low_pass_filter_hw.ipynb\" target=\"_parent\"><img src=\"https://colab.research.google.com/assets/colab-badge.svg\" alt=\"Open In Colab\"/></a>"
      ]
    },
    {
      "cell_type": "code",
      "execution_count": null,
      "metadata": {
        "id": "WaO7eFqBG6vK"
      },
      "outputs": [],
      "source": [
        "import pandas as pd\n",
        "import numpy as np\n",
        "import matplotlib.pyplot as plt"
      ]
    },
    {
      "cell_type": "code",
      "source": [
        "data = pd.read_csv(\"/content/COVID19.csv\")"
      ],
      "metadata": {
        "id": "VjFr6xPTM7np"
      },
      "execution_count": null,
      "outputs": []
    },
    {
      "cell_type": "code",
      "source": [
        "len(data)"
      ],
      "metadata": {
        "id": "9_bodUA7M6Ka"
      },
      "execution_count": null,
      "outputs": []
    },
    {
      "cell_type": "code",
      "source": [
        "data.rename(columns = {'인원[명]' : 'nof'}, inplace = True)"
      ],
      "metadata": {
        "id": "98cWAPGqNa76"
      },
      "execution_count": null,
      "outputs": []
    },
    {
      "cell_type": "code",
      "source": [
        "data.rename(columns = {'시점' : 'date'}, inplace = True)"
      ],
      "metadata": {
        "id": "e1nTcOd9N3RO"
      },
      "execution_count": null,
      "outputs": []
    },
    {
      "cell_type": "code",
      "execution_count": null,
      "metadata": {
        "id": "pqdSpv5iMhES"
      },
      "outputs": [],
      "source": [
        "data"
      ]
    },
    {
      "cell_type": "code",
      "source": [
        "data1 = data[\"nof\"]"
      ],
      "metadata": {
        "id": "KpkCftTUN9A_"
      },
      "execution_count": null,
      "outputs": []
    },
    {
      "cell_type": "code",
      "source": [
        "def low_pass_filter(x_meas, x_esti,m_alpha):\n",
        "    \"\"\"Calculate average sonar using a low pass filter\"\"\"\n",
        "    x_esti =m_alpha * x_esti + (1 - alpha) * x_meas\n",
        "    return x_esti"
      ],
      "metadata": {
        "id": "vZoIvksWOETI"
      },
      "execution_count": null,
      "outputs": []
    },
    {
      "cell_type": "code",
      "source": [
        "def avg_filter(k, x_avg_k_1, x_measure):\n",
        "    alpha =  (k - 1)/k \n",
        "    x_avg = alpha * x_avg_k_1 + (1 - alpha) * x_measure\n",
        "    return x_avg"
      ],
      "metadata": {
        "id": "_ClB-rGinehn"
      },
      "execution_count": null,
      "outputs": []
    },
    {
      "cell_type": "code",
      "source": [
        "alpha = 0.7\n",
        "n_samples = 9154\n",
        "time_end = 10"
      ],
      "metadata": {
        "id": "Ya0GS4jqOJiF"
      },
      "execution_count": null,
      "outputs": []
    },
    {
      "cell_type": "code",
      "source": [
        "dt = time_end / n_samples\n",
        "time = np.arange(0, time_end,dt)\n",
        "x_meas_save = np.zeros(n_samples)\n",
        "x_esti_save = np.zeros(n_samples)\n",
        "x_avg_save = np.zeros(n_samples)"
      ],
      "metadata": {
        "id": "sHWOg9HwOOUn"
      },
      "execution_count": null,
      "outputs": []
    },
    {
      "cell_type": "code",
      "source": [
        "x_esti = None\n",
        "x_avg = 0\n",
        "for i in range(n_samples):\n",
        "    x_meas = data1[i]\n",
        "    k = i + 1\n",
        "    x_avg_k = avg_filter(k,x_meas, x_avg)\n",
        "    if i == 0:\n",
        "        x_esti = x_meas\n",
        "    else:\n",
        "        x_esti = low_pass_filter(x_meas, x_esti,alpha)\n",
        "\n",
        "    x_meas_save[i] = x_meas\n",
        "    x_esti_save[i] = x_esti\n",
        "    x_avg_save[i] = x_avg"
      ],
      "metadata": {
        "id": "uLRB8hJ3iqAf"
      },
      "execution_count": null,
      "outputs": []
    },
    {
      "cell_type": "code",
      "source": [
        "plt.plot(time, x_meas_save, 'r*', label='Measured')\n",
        "plt.plot(time, x_esti_save, 'b-', label='Low-pass Filter')\n",
        "\n",
        "plt.legend(loc='upper left')\n",
        "plt.title('Measured Altitudes v.s. LPF Values')\n",
        "plt.xlabel('Date')\n",
        "plt.ylabel('A number of people')\n",
        "plt.savefig('low_pass_filter.png')"
      ],
      "metadata": {
        "id": "2ANkCvK4OSET"
      },
      "execution_count": null,
      "outputs": []
    }
  ]
}