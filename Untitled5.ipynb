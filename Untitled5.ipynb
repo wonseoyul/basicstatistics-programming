{
  "nbformat": 4,
  "nbformat_minor": 0,
  "metadata": {
    "colab": {
      "private_outputs": true,
      "provenance": [],
      "authorship_tag": "ABX9TyMN78QQAyQ4VDct4I7kiyXW",
      "include_colab_link": true
    },
    "kernelspec": {
      "name": "python3",
      "display_name": "Python 3"
    },
    "language_info": {
      "name": "python"
    }
  },
  "cells": [
    {
      "cell_type": "markdown",
      "metadata": {
        "id": "view-in-github",
        "colab_type": "text"
      },
      "source": [
        "<a href=\"https://colab.research.google.com/github/wonseoyul/basicstatistics-programming/blob/main/Untitled5.ipynb\" target=\"_parent\"><img src=\"https://colab.research.google.com/assets/colab-badge.svg\" alt=\"Open In Colab\"/></a>"
      ]
    },
    {
      "cell_type": "code",
      "execution_count": null,
      "metadata": {
        "id": "t8nHJbWzu0Nx"
      },
      "outputs": [],
      "source": [
        "import math\n",
        "from itertools import combinations"
      ]
    },
    {
      "cell_type": "code",
      "source": [
        "def gen_permutations(arr, n):\n",
        "    result = []\n",
        "\n",
        "    if n == 0:\n",
        "        return [[]]\n",
        "    for i, elem in enumerate(arr):\n",
        "        for P in gen_permutations(arr[:1] + arr[i+1:], n-1):\n",
        "            print(i,P)\n",
        "            result += [[elem]+P]\n",
        "        \n",
        "    return result"
      ],
      "metadata": {
        "id": "sD3j3n0Lu4ea"
      },
      "execution_count": null,
      "outputs": []
    },
    {
      "cell_type": "code",
      "source": [
        "arr = [0, 1, 2, 3, 4, 5,]\n",
        "\n",
        "print(list(combinations(arr, 3)))"
      ],
      "metadata": {
        "id": "dJzVukObyVKa"
      },
      "execution_count": null,
      "outputs": []
    },
    {
      "cell_type": "code",
      "source": [
        "def gen_combinations(arr, n):\n",
        "    result = []\n",
        "\n",
        "    if n == 0:\n",
        "        return [[]]\n",
        "\n",
        "    for i in range(0, len(arr)):\n",
        "        elem = arr[i]\n",
        "        rest_arr = arr[i + 1:]\n",
        "        for C in gen_combinations(rest_arr, n-1):\n",
        "            result.append([elem]+C)\n",
        "\n",
        "    return result"
      ],
      "metadata": {
        "id": "pmRcsqKFyTby"
      },
      "execution_count": null,
      "outputs": []
    },
    {
      "cell_type": "code",
      "source": [
        "array = [0, 1, 2, 3]\n",
        "print(gen_combinations(array,2))"
      ],
      "metadata": {
        "id": "qY8T1EJ00-0i"
      },
      "execution_count": null,
      "outputs": []
    }
  ]
}