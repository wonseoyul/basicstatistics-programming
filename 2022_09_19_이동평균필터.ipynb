{
  "nbformat": 4,
  "nbformat_minor": 0,
  "metadata": {
    "colab": {
      "private_outputs": true,
      "provenance": [],
      "authorship_tag": "ABX9TyOWYbqE6lVxCxiFzhAhMfrN",
      "include_colab_link": true
    },
    "kernelspec": {
      "name": "python3",
      "display_name": "Python 3"
    },
    "language_info": {
      "name": "python"
    }
  },
  "cells": [
    {
      "cell_type": "markdown",
      "metadata": {
        "id": "view-in-github",
        "colab_type": "text"
      },
      "source": [
        "<a href=\"https://colab.research.google.com/github/wonseoyul/basicstatistics-programming/blob/main/2022_09_19_%EC%9D%B4%EB%8F%99%ED%8F%89%EA%B7%A0%ED%95%84%ED%84%B0.ipynb\" target=\"_parent\"><img src=\"https://colab.research.google.com/assets/colab-badge.svg\" alt=\"Open In Colab\"/></a>"
      ]
    },
    {
      "cell_type": "code",
      "execution_count": null,
      "metadata": {
        "id": "wSU6p8KAH0MN"
      },
      "outputs": [],
      "source": [
        "import numpy as np\n",
        "import matplotlib.pyplot as plt\n",
        "from scipy import io"
      ]
    },
    {
      "cell_type": "code",
      "source": [
        "input_mat = io.loadmat('/content/SonarAl.mat')"
      ],
      "metadata": {
        "id": "WLncfaCTJgNz"
      },
      "execution_count": null,
      "outputs": []
    },
    {
      "cell_type": "code",
      "source": [
        "print(input_mat)"
      ],
      "metadata": {
        "id": "WNJ3YmEjJuoi"
      },
      "execution_count": null,
      "outputs": []
    },
    {
      "cell_type": "code",
      "source": [
        "print(input_mat['sonarAlt'])\n",
        "print(input_mat['sonarAlt'][0])\n",
        "data_sonar = input_mat['sonarAlt'][0]\n",
        "print(data_sonar)\n",
        "print(len(data_sonar))"
      ],
      "metadata": {
        "id": "6Ltsu7-kJu-a"
      },
      "execution_count": null,
      "outputs": []
    },
    {
      "cell_type": "code",
      "source": [
        "def get_sonar(i):\n",
        "    \"\"\"Measure sonar.\"\"\"\n",
        "    z = input_mat['sonarAlt'][0][i]  # input_mat['sonaralt']: (1, 1501)\n",
        "    return z"
      ],
      "metadata": {
        "id": "-VisUCSQLm_r"
      },
      "execution_count": null,
      "outputs": []
    },
    {
      "cell_type": "code",
      "source": [
        "def mov_avg_filter(x_n, x_meas):\n",
        "    \"\"\"Calculate average sonar using a moving average filter (batch expression).\"\"\"\n",
        "    n = len(x_n)\n",
        "    for i in range(n-1):\n",
        "        x_n[i] = x_n[i+1]\n",
        "    x_n[n-1] = x_meas\n",
        "    x_avg = np.mean(x_n)\n",
        "    return x_avg, x_n                  "
      ],
      "metadata": {
        "id": "tLEpyb5pLtFi"
      },
      "execution_count": null,
      "outputs": []
    },
    {
      "cell_type": "code",
      "source": [
        "n = 10\n",
        "n1 = 20\n",
        "n_samples = 500\n",
        "time_end = 10"
      ],
      "metadata": {
        "id": "gdwP1evmM-9U"
      },
      "execution_count": null,
      "outputs": []
    },
    {
      "cell_type": "code",
      "source": [
        "dt = time_end / n_samples\n",
        "time = np.arange(0, time_end, dt) #np.arange(시작, 끝, step size)(range와 달리 실수도 가능)\n",
        "x_meas_save = np.zeros(n_samples) #n_sample개의 0을 요소로 가지는 array 생성\n",
        "x_avg_save = np.zeros(n_samples)"
      ],
      "metadata": {
        "id": "dNXoG4unNa4r"
      },
      "execution_count": null,
      "outputs": []
    },
    {
      "cell_type": "code",
      "source": [
        "print(time)\n",
        "print(x_meas_save)\n",
        "print(x_avg_save)"
      ],
      "metadata": {
        "id": "BUG-HuWbN2kj"
      },
      "execution_count": null,
      "outputs": []
    },
    {
      "cell_type": "code",
      "source": [
        "for i in range(n_samples):\n",
        "\n",
        "    x_meas = get_sonar(i)\n",
        "\n",
        "    if i == 0:\n",
        "\n",
        "        x_avg, x_n = x_meas, x_meas * np.ones(n)\n",
        "\n",
        "        print(x_meas * np.ones(n))\n",
        "\n",
        "    else:\n",
        "\n",
        "        x_avg, x_n = mov_avg_filter(x_n, x_meas)\n",
        "\n",
        "        print(x_n)\n",
        "\n",
        " \n",
        "\n",
        "    x_meas_save[i] = x_meas\n",
        "\n",
        "    x_avg_save[i] = x_avg"
      ],
      "metadata": {
        "id": "1d7a3cGUQUd0"
      },
      "execution_count": null,
      "outputs": []
    },
    {
      "cell_type": "code",
      "source": [
        "plt.plot(time, x_meas_save, 'r*', label='Measured')\n",
        "plt.plot(time, x_avg_save, 'b-', label='Moving average')\n",
        "plt.legend(loc='upper left')\n",
        "plt.title('Measured Altitudes v.s. Moving Average Filter Values')\n",
        "plt.xlabel('Time [sec]')\n",
        "plt.ylabel('Altitude [m]')\n",
        "plt.savefig('moving_average_filter.png')"
      ],
      "metadata": {
        "id": "kvX6hOzkRfms"
      },
      "execution_count": null,
      "outputs": []
    }
  ]
}