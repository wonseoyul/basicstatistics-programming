{
  "nbformat": 4,
  "nbformat_minor": 0,
  "metadata": {
    "colab": {
      "private_outputs": true,
      "provenance": [],
      "authorship_tag": "ABX9TyMgAD7kHgMN39eZtEAetapG",
      "include_colab_link": true
    },
    "kernelspec": {
      "name": "python3",
      "display_name": "Python 3"
    },
    "language_info": {
      "name": "python"
    }
  },
  "cells": [
    {
      "cell_type": "markdown",
      "metadata": {
        "id": "view-in-github",
        "colab_type": "text"
      },
      "source": [
        "<a href=\"https://colab.research.google.com/github/wonseoyul/basicstatistics-programming/blob/main/disaster_hw.ipynb\" target=\"_parent\"><img src=\"https://colab.research.google.com/assets/colab-badge.svg\" alt=\"Open In Colab\"/></a>"
      ]
    },
    {
      "cell_type": "code",
      "execution_count": null,
      "metadata": {
        "id": "PQ-RNgTLZJbK"
      },
      "outputs": [],
      "source": [
        "import numpy as np\n",
        "import matplotlib.pyplot as plt\n",
        "import pandas as pd\n",
        "from scipy import io"
      ]
    },
    {
      "cell_type": "code",
      "source": [
        "data_csv = pd.read_csv(\"/content/disaster.csv\", sep = ',',encoding ='euc-kr')"
      ],
      "metadata": {
        "id": "lLNNWB4sZNaG"
      },
      "execution_count": null,
      "outputs": []
    },
    {
      "cell_type": "code",
      "source": [
        "data_csv"
      ],
      "metadata": {
        "id": "t05oJLt6ZTdi"
      },
      "execution_count": null,
      "outputs": []
    },
    {
      "cell_type": "code",
      "source": [
        "len(data_csv)"
      ],
      "metadata": {
        "id": "5TNIzbuZZrsL"
      },
      "execution_count": null,
      "outputs": []
    },
    {
      "cell_type": "code",
      "source": [
        "print(data_csv['accident'])\n",
        "print(data_csv['accident'][0])\n",
        "data_accident =  data_csv['accident'][0]\n",
        "print(data_accident)"
      ],
      "metadata": {
        "id": "k1RXeBrZaI1C"
      },
      "execution_count": null,
      "outputs": []
    },
    {
      "cell_type": "code",
      "source": [
        "def get_accident(i):\n",
        "    z = data_csv['accident'][i]\n",
        "    return z"
      ],
      "metadata": {
        "id": "ttF4FdbkcUK0"
      },
      "execution_count": null,
      "outputs": []
    },
    {
      "cell_type": "code",
      "source": [
        "def mov_avg_filter(x_n, x_meas):\n",
        "    \"\"\"이동평균 이용하여 초음파 거리 계산 (배치식).\"\"\"\n",
        "    n = len(x_n)\n",
        "    for i in range(n-1):\n",
        "        x_n[i] = x_n[i+1]\n",
        "    x_n[n-1] = x_meas\n",
        "    x_avg = np.mean(x_n)\n",
        "    return x_avg, x_n"
      ],
      "metadata": {
        "id": "n1Xvp4vcdEAZ"
      },
      "execution_count": null,
      "outputs": []
    },
    {
      "cell_type": "code",
      "source": [
        "n = 10\n",
        "n_samples = 59\n",
        "time_end = 10"
      ],
      "metadata": {
        "id": "_EsJZdGidHBF"
      },
      "execution_count": null,
      "outputs": []
    },
    {
      "cell_type": "code",
      "source": [
        "dt = time_end / n_samples\n",
        "time = np.arange(0, time_end,dt)\n",
        "x_meas_save = np.zeros(n_samples)\n",
        "x_avg_save = np.zeros(n_samples)"
      ],
      "metadata": {
        "id": "7y7y6S-IdNEF"
      },
      "execution_count": null,
      "outputs": []
    },
    {
      "cell_type": "code",
      "source": [
        "for i in range(n_samples):\n",
        "    \n",
        "     x_meas = get_accident(i)\n",
        "\n",
        "     if  i == 0:\n",
        "         x_avg, x_n = x_meas, x_meas  * np.ones(n)\n",
        "         print(x_meas * np.ones(n))\n",
        "\n",
        "     else:\n",
        "         x_avg, x_n = mov_avg_filter(x_n, x_meas)\n",
        "         print(x_n)\n",
        "\n",
        "     x_meas_save[i] = x_meas\n",
        "     x_avg_save[i] = x_avg"
      ],
      "metadata": {
        "id": "DqJVizTsdOKX"
      },
      "execution_count": null,
      "outputs": []
    },
    {
      "cell_type": "code",
      "source": [
        "plt.plot(time, x_meas_save, 'r*', label='Measured')\n",
        "\n",
        "plt.plot(time, x_avg_save, 'b-', label='Moving average')\n",
        "\n",
        "plt.legend(loc='upper left')\n",
        "\n",
        "plt.title('Measured Altitudes v.s. Moving Average Filter Values')\n",
        "\n",
        "plt.xlabel('date')\n",
        "\n",
        "plt.ylabel('Accidebt')\n",
        "\n",
        "plt.show()"
      ],
      "metadata": {
        "id": "0KhPwKW7dX_e"
      },
      "execution_count": null,
      "outputs": []
    }
  ]
}