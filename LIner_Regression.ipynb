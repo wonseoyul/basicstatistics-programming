{
  "nbformat": 4,
  "nbformat_minor": 0,
  "metadata": {
    "colab": {
      "private_outputs": true,
      "provenance": [],
      "collapsed_sections": [],
      "authorship_tag": "ABX9TyNS5c6t9LuUY9NZV3Dira02",
      "include_colab_link": true
    },
    "kernelspec": {
      "name": "python3",
      "display_name": "Python 3"
    },
    "language_info": {
      "name": "python"
    }
  },
  "cells": [
    {
      "cell_type": "markdown",
      "metadata": {
        "id": "view-in-github",
        "colab_type": "text"
      },
      "source": [
        "<a href=\"https://colab.research.google.com/github/wonseoyul/basicstatistics-programming/blob/main/LIner_Regression.ipynb\" target=\"_parent\"><img src=\"https://colab.research.google.com/assets/colab-badge.svg\" alt=\"Open In Colab\"/></a>"
      ]
    },
    {
      "cell_type": "code",
      "execution_count": null,
      "metadata": {
        "id": "a3eoiSoHNcyx"
      },
      "outputs": [],
      "source": [
        "import numpy as np\n",
        "import matplotlib.pyplot as plt\n",
        "from random import random\n",
        "import pandas as pd"
      ]
    },
    {
      "cell_type": "code",
      "source": [
        "data = [ [4, 6], [8, 5], [12, 15], [16, 12], [20, 20] ] \n",
        "x= [4, 8, 12, 16, 20]\n",
        "y= [6, 5, 15, 12, 20]"
      ],
      "metadata": {
        "id": "fOzRsCSMNzco"
      },
      "execution_count": null,
      "outputs": []
    },
    {
      "cell_type": "code",
      "source": [
        "Data = np.array(data)\n",
        "X = np.array(Data[:, 0])\n",
        "Y = np.array(Data[:, 1])\n",
        "X1 = np.zeros(5)\n",
        "Y1 = np.zeros(5)"
      ],
      "metadata": {
        "id": "wdMnpGDWOT2w"
      },
      "execution_count": null,
      "outputs": []
    },
    {
      "cell_type": "code",
      "source": [
        "x_sum = X.sum()\n",
        "y_sum = Y.sum()\n",
        "x_avg = X.mean()\n",
        "y_avg = Y.mean()"
      ],
      "metadata": {
        "id": "lBtPUNUUOuQ4"
      },
      "execution_count": null,
      "outputs": []
    },
    {
      "cell_type": "code",
      "source": [
        "sum_xy = 0.0\n",
        "sum_xx2 = 0.0"
      ],
      "metadata": {
        "id": "VX9QhnVXPHMB"
      },
      "execution_count": null,
      "outputs": []
    },
    {
      "cell_type": "code",
      "source": [
        "for i in range(0,len(X)):\n",
        "    sum_xy  += (X[i]- x_avg) * (Y[i] - y_avg)\n",
        "    sum_xx2 += (X[i]- x_avg) * (X[i] - x_avg)"
      ],
      "metadata": {
        "id": "_tZcfFawPO7n"
      },
      "execution_count": null,
      "outputs": []
    },
    {
      "cell_type": "code",
      "source": [
        "print(x_sum, y_sum, x_avg, y_avg)\n",
        "print(sum_xy, sum_xx2)"
      ],
      "metadata": {
        "id": "_ySFH3L2QS8w"
      },
      "execution_count": null,
      "outputs": []
    },
    {
      "cell_type": "code",
      "source": [
        "a = sum_xy /  sum_xx2\n",
        "b = y_avg - a * x_avg"
      ],
      "metadata": {
        "id": "a1Xn6257QX_W"
      },
      "execution_count": null,
      "outputs": []
    },
    {
      "cell_type": "code",
      "source": [
        "for i in range(0, len(X)):\n",
        "    Y1[i] =  X[i]*a+b"
      ],
      "metadata": {
        "id": "sZ16wXc5QnQI"
      },
      "execution_count": null,
      "outputs": []
    },
    {
      "cell_type": "code",
      "source": [
        "print(a, b)"
      ],
      "metadata": {
        "id": "M99VfqOUQnaH"
      },
      "execution_count": null,
      "outputs": []
    },
    {
      "cell_type": "code",
      "source": [
        "plt.figure(\"Linear Regression\")\n",
        "plt.scatter(X, y)\n",
        "#plt.plot(X,Y, 'g--', X1, Y1. c='r')\n",
        "plt.plot(X, Y1, c= 'r')\n",
        "plt.show"
      ],
      "metadata": {
        "id": "gS86ZpmpR3P4"
      },
      "execution_count": null,
      "outputs": []
    },
    {
      "cell_type": "code",
      "source": [
        "x = np.array([0, 1, 2, 3])\n",
        "y = ap.array([-1, 0.2, 0.9, 2.1])\n",
        "\n",
        "A =  np.vtask"
      ],
      "metadata": {
        "id": "Uu5_jT8xbkLP"
      },
      "execution_count": null,
      "outputs": []
    },
    {
      "cell_type": "code",
      "source": [],
      "metadata": {
        "id": "lSB0wNDdbRbA"
      },
      "execution_count": null,
      "outputs": []
    },
    {
      "cell_type": "code",
      "source": [],
      "metadata": {
        "id": "B_eKQBJISHgH"
      },
      "execution_count": null,
      "outputs": []
    }
  ]
}