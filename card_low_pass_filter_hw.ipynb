{
  "nbformat": 4,
  "nbformat_minor": 0,
  "metadata": {
    "colab": {
      "private_outputs": true,
      "provenance": [],
      "authorship_tag": "ABX9TyPV6F3RdjJdOULi12PpOJhM",
      "include_colab_link": true
    },
    "kernelspec": {
      "name": "python3",
      "display_name": "Python 3"
    },
    "language_info": {
      "name": "python"
    }
  },
  "cells": [
    {
      "cell_type": "markdown",
      "metadata": {
        "id": "view-in-github",
        "colab_type": "text"
      },
      "source": [
        "<a href=\"https://colab.research.google.com/github/wonseoyul/basicstatistics-programming/blob/main/card_low_pass_filter_hw.ipynb\" target=\"_parent\"><img src=\"https://colab.research.google.com/assets/colab-badge.svg\" alt=\"Open In Colab\"/></a>"
      ]
    },
    {
      "cell_type": "code",
      "execution_count": null,
      "metadata": {
        "id": "WaO7eFqBG6vK"
      },
      "outputs": [],
      "source": [
        "import pandas as pd\n",
        "import numpy as np\n",
        "import matplotlib.pyplot as plt"
      ]
    },
    {
      "cell_type": "code",
      "source": [
        "data_csv = pd.read_csv(\"/content/card.csv\", sep = ',',encoding ='euc-kr')"
      ],
      "metadata": {
        "id": "R7isn24NQ0-q"
      },
      "execution_count": null,
      "outputs": []
    },
    {
      "cell_type": "code",
      "source": [
        "data_csv"
      ],
      "metadata": {
        "id": "3i90o5kfQ39D"
      },
      "execution_count": null,
      "outputs": []
    },
    {
      "cell_type": "code",
      "source": [
        "data1 =data_csv[\"all\"]"
      ],
      "metadata": {
        "id": "VcywsfuwRASh"
      },
      "execution_count": null,
      "outputs": []
    },
    {
      "cell_type": "code",
      "source": [
        "def low_pass_filter(x_meas, x_esti,m_alpha):\n",
        "    \"\"\"Calculate average sonar using a low pass filter\"\"\"\n",
        "    x_esti =m_alpha * x_esti + (1 - alpha) * x_meas\n",
        "    return x_esti"
      ],
      "metadata": {
        "id": "FsNKM9lpRGUC"
      },
      "execution_count": null,
      "outputs": []
    },
    {
      "cell_type": "code",
      "source": [
        "def avg_filter(k, x_avg_k_1, x_measure):\n",
        "    alpha =  (k - 1)/k \n",
        "    x_avg = alpha * x_avg_k_1 + (1 - alpha) * x_measure\n",
        "    return x_avg"
      ],
      "metadata": {
        "id": "M7PqsfOeRJ3S"
      },
      "execution_count": null,
      "outputs": []
    },
    {
      "cell_type": "code",
      "source": [
        "alpha = 0.7\n",
        "n_samples = 1789\n",
        "time_end = 10"
      ],
      "metadata": {
        "id": "lLeoMPmXRL5k"
      },
      "execution_count": null,
      "outputs": []
    },
    {
      "cell_type": "code",
      "source": [
        "dt = time_end / n_samples\n",
        "time = np.arange(0, time_end,dt)\n",
        "x_meas_save = np.zeros(n_samples)\n",
        "x_esti_save = np.zeros(n_samples)\n",
        "x_avg_save = np.zeros(n_samples)"
      ],
      "metadata": {
        "id": "LhMYXpK2RPfA"
      },
      "execution_count": null,
      "outputs": []
    },
    {
      "cell_type": "code",
      "source": [
        "x_esti = None\n",
        "x_avg = 0\n",
        "for i in range(n_samples):\n",
        "    x_meas = data1[i]\n",
        "    k = i + 1\n",
        "    x_avg_k = avg_filter(k,x_meas, x_avg)\n",
        "    if i == 0:\n",
        "        x_esti = x_meas\n",
        "    else:\n",
        "        x_esti = low_pass_filter(x_meas, x_esti,alpha)\n",
        "\n",
        "    x_meas_save[i] = x_meas\n",
        "    x_esti_save[i] = x_esti\n",
        "    x_avg_save[i] = x_avg"
      ],
      "metadata": {
        "id": "a4_Hr2yDRRQb"
      },
      "execution_count": null,
      "outputs": []
    },
    {
      "cell_type": "code",
      "source": [
        "plt.plot(time, x_meas_save, 'r*', label='Measured')\n",
        "plt.plot(time, x_esti_save, 'b-', label='Low-pass Filter')\n",
        "\n",
        "plt.legend(loc='upper left')\n",
        "plt.title('Measured Altitudes v.s. LPF Values')\n",
        "plt.xlabel('Date')\n",
        "plt.ylabel('A number of people')\n",
        "plt.savefig('low_pass_filter.png')"
      ],
      "metadata": {
        "id": "Cb1EV3GfRTH7"
      },
      "execution_count": null,
      "outputs": []
    }
  ]
}