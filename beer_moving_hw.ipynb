{
  "nbformat": 4,
  "nbformat_minor": 0,
  "metadata": {
    "colab": {
      "private_outputs": true,
      "provenance": [],
      "authorship_tag": "ABX9TyNUqslNEtVKxvhuHFBTB53t",
      "include_colab_link": true
    },
    "kernelspec": {
      "name": "python3",
      "display_name": "Python 3"
    },
    "language_info": {
      "name": "python"
    }
  },
  "cells": [
    {
      "cell_type": "markdown",
      "metadata": {
        "id": "view-in-github",
        "colab_type": "text"
      },
      "source": [
        "<a href=\"https://colab.research.google.com/github/wonseoyul/basicstatistics-programming/blob/main/beer_moving_hw.ipynb\" target=\"_parent\"><img src=\"https://colab.research.google.com/assets/colab-badge.svg\" alt=\"Open In Colab\"/></a>"
      ]
    },
    {
      "cell_type": "code",
      "execution_count": null,
      "metadata": {
        "id": "GSbV09SoW7l7"
      },
      "outputs": [],
      "source": [
        "import numpy as np\n",
        "import matplotlib.pyplot as plt\n",
        "import pandas as pd\n",
        "from scipy import io"
      ]
    },
    {
      "cell_type": "code",
      "source": [
        "data_csv = pd.read_csv(\"https://raw.githubusercontent.com/jamesrobertlloyd/gp-structure-search/master/data/raw/TSDL/monthly-beer-production-in-austr.csv\",sep=',' )"
      ],
      "metadata": {
        "id": "1sVoFPwuw0py"
      },
      "execution_count": null,
      "outputs": []
    },
    {
      "cell_type": "code",
      "source": [
        "data_csv.columns"
      ],
      "metadata": {
        "id": "4hdUp-MqjyQI"
      },
      "execution_count": null,
      "outputs": []
    },
    {
      "cell_type": "code",
      "source": [
        "data_csv.rename(columns = {'Monthly beer production in Australia: megalitres. Includes ale and stout. Does not include beverages with alcohol percentage less than 1.15. Jan 1956 ? Aug 1995' : 'products'}, inplace = True)"
      ],
      "metadata": {
        "id": "DLrw9Kx-O-a8"
      },
      "execution_count": null,
      "outputs": []
    },
    {
      "cell_type": "code",
      "source": [
        "data_csv"
      ],
      "metadata": {
        "id": "jai0GMNdPXLi"
      },
      "execution_count": null,
      "outputs": []
    },
    {
      "cell_type": "code",
      "source": [
        "print(data_csv['products'])\n",
        "print(data_csv['products'][0])\n",
        "data_beer =  data_csv['products'][0]\n",
        "print(data_beer)"
      ],
      "metadata": {
        "id": "PirhFy9HP1cy"
      },
      "execution_count": null,
      "outputs": []
    },
    {
      "cell_type": "code",
      "source": [
        "def get_beer(i):\n",
        "    z = data_csv['products'][i]\n",
        "    return z"
      ],
      "metadata": {
        "id": "ZuimhqjSihwt"
      },
      "execution_count": null,
      "outputs": []
    },
    {
      "cell_type": "code",
      "source": [
        "def mov_avg_filter(x_n, x_meas):\n",
        "    \"\"\"이동평균 이용하여 초음파 거리 계산 (배치식).\"\"\"\n",
        "    n = len(x_n)\n",
        "    for i in range(n-1):\n",
        "        x_n[i] = x_n[i+1]\n",
        "    x_n[n-1] = x_meas\n",
        "    x_avg = np.mean(x_n)\n",
        "    return x_avg, x_n"
      ],
      "metadata": {
        "id": "zhltZX9pZu10"
      },
      "execution_count": null,
      "outputs": []
    },
    {
      "cell_type": "code",
      "source": [
        "n = 10\n",
        "n_samples = 475\n",
        "time_end = 10"
      ],
      "metadata": {
        "id": "B_d29p1rh8_F"
      },
      "execution_count": null,
      "outputs": []
    },
    {
      "cell_type": "code",
      "source": [
        "dt = time_end / n_samples\n",
        "time = np.arange(0, time_end,dt)\n",
        "x_meas_save = np.zeros(n_samples)\n",
        "x_avg_save = np.zeros(n_samples)"
      ],
      "metadata": {
        "id": "Of0RYa2IiR81"
      },
      "execution_count": null,
      "outputs": []
    },
    {
      "cell_type": "code",
      "source": [
        "for i in range(n_samples):\n",
        "    \n",
        "     x_meas = get_beer(i)\n",
        "\n",
        "     if  i == 0:\n",
        "         x_avg, x_n = x_meas, x_meas  * np.ones(n)\n",
        "         print(x_meas * np.ones(n))\n",
        "\n",
        "     else:\n",
        "         x_avg, x_n = mov_avg_filter(x_n, x_meas)\n",
        "         print(x_n)\n",
        "\n",
        "     x_meas_save[i] = x_meas\n",
        "     x_avg_save[i] = x_avg"
      ],
      "metadata": {
        "id": "b8J3xj9piYRB"
      },
      "execution_count": null,
      "outputs": []
    },
    {
      "cell_type": "code",
      "source": [
        "plt.plot(time, x_meas_save, 'r*', label='Measured')\n",
        "\n",
        "plt.plot(time, x_avg_save, 'b-', label='Moving average')\n",
        "\n",
        "plt.legend(loc='upper left')\n",
        "\n",
        "plt.title('Measured Altitudes v.s. Moving Average Filter Values')\n",
        "\n",
        "plt.xlabel('Time')\n",
        "\n",
        "plt.ylabel('products')\n",
        "\n",
        "plt.show()"
      ],
      "metadata": {
        "id": "kvX6hOzkRfms"
      },
      "execution_count": null,
      "outputs": []
    }
  ]
}