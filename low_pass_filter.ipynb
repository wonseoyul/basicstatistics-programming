{
  "nbformat": 4,
  "nbformat_minor": 0,
  "metadata": {
    "colab": {
      "private_outputs": true,
      "provenance": [],
      "authorship_tag": "ABX9TyN57L8Bo4bcWqLYw0ebnUiC",
      "include_colab_link": true
    },
    "kernelspec": {
      "name": "python3",
      "display_name": "Python 3"
    },
    "language_info": {
      "name": "python"
    }
  },
  "cells": [
    {
      "cell_type": "markdown",
      "metadata": {
        "id": "view-in-github",
        "colab_type": "text"
      },
      "source": [
        "<a href=\"https://colab.research.google.com/github/wonseoyul/basicstatistics-programming/blob/main/low_pass_filter.ipynb\" target=\"_parent\"><img src=\"https://colab.research.google.com/assets/colab-badge.svg\" alt=\"Open In Colab\"/></a>"
      ]
    },
    {
      "cell_type": "code",
      "execution_count": null,
      "metadata": {
        "id": "jtIluublUH8q"
      },
      "outputs": [],
      "source": [
        "import numpy as np\n",
        "import matplotlib.pyplot as plt\n",
        "from scipy import io"
      ]
    },
    {
      "cell_type": "code",
      "source": [
        "input_mat = io.loadmat('/content/sample_data/SonarAl.mat')"
      ],
      "metadata": {
        "id": "knjeasp1WPGK"
      },
      "execution_count": null,
      "outputs": []
    },
    {
      "cell_type": "code",
      "source": [
        "def get_sonar(i):\n",
        "    \"\"\"Measure sonar.\"\"\"\n",
        "    z= input_mat['sonarAlt'][0][i]\n",
        "    return z"
      ],
      "metadata": {
        "id": "29M8W4WdX0JB"
      },
      "execution_count": null,
      "outputs": []
    },
    {
      "cell_type": "code",
      "source": [
        "def low_pass_filter(x_meas, x_esti):\n",
        "    \"\"\"Calculate average sonar using a low pass filter\"\"\"\n",
        "    x_esti = alpha + x_esti + (1 - alpha) * x_meas\n",
        "    return x_esti"
      ],
      "metadata": {
        "id": "ZGdYKoUnYcuJ"
      },
      "execution_count": null,
      "outputs": []
    },
    {
      "cell_type": "code",
      "source": [
        "alpha = 0.7\n",
        "n_samples = 800\n",
        "time_end = 80"
      ],
      "metadata": {
        "id": "t6EALxkaYk0W"
      },
      "execution_count": null,
      "outputs": []
    },
    {
      "cell_type": "code",
      "source": [
        "dt = time_end / n_samples\n",
        "time = np.arange(0, time_end,dt)\n",
        "x_meas_save = np.zeros(n_samples)\n",
        "x_esti_save = np.zeros(n_samples)"
      ],
      "metadata": {
        "id": "13YYYGOUZX8q"
      },
      "execution_count": null,
      "outputs": []
    },
    {
      "cell_type": "code",
      "source": [
        "x_esti = None\n",
        "for i in range(n_samples):\n",
        "    x_meas = get_sonar(i)\n",
        "    if i == 0:\n",
        "        x_esti = x_meas\n",
        "    else:\n",
        "        x_esti = low_pass_filter(x_meas, x_esti)\n",
        "\n",
        "    x_meas_save[i] = x_meas\n",
        "    x_esti_save[i] = x_esti"
      ],
      "metadata": {
        "id": "VW5PQ1mjaIIR"
      },
      "execution_count": null,
      "outputs": []
    },
    {
      "cell_type": "code",
      "source": [
        "plt.plot(time, x_meas_save, 'r*', label='Measured')\n",
        "plt.plot(time, x_esti_save, 'b-', label='Low-pass Filter')\n",
        "plt.legend(loc='upper left')\n",
        "plt.title('Measured Altitudes v.s. LPF Values')\n",
        "plt.xlabel('Time [sec]')\n",
        "plt.ylabel('Altitude [m]')\n",
        "plt.savefig('low_pass_filter.png')\n"
      ],
      "metadata": {
        "id": "3znhRIlUbsUa"
      },
      "execution_count": null,
      "outputs": []
    }
  ]
}